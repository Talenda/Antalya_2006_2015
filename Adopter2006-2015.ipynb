{
 "cells": [
  {
   "cell_type": "code",
   "execution_count": 1,
   "id": "ae3b710a",
   "metadata": {},
   "outputs": [],
   "source": [
    "#conda install -c conda-forge xarray"
   ]
  },
  {
   "cell_type": "code",
   "execution_count": 2,
   "id": "40d85cee",
   "metadata": {},
   "outputs": [],
   "source": [
    "#conda install -c conda-forge xarray dask netCDF4 bottleneck"
   ]
  },
  {
   "cell_type": "code",
   "execution_count": 3,
   "id": "c4971a03",
   "metadata": {},
   "outputs": [],
   "source": [
    "import webbrowser\n",
    "#webbrowser.open('https://github.com/enyfeo/efas/tree/master/work')"
   ]
  },
  {
   "cell_type": "code",
   "execution_count": 4,
   "id": "bd00c326",
   "metadata": {},
   "outputs": [],
   "source": [
    "import webbrowser\n",
    "#webbrowser.open('https://1028f8d26f624cd18d39-my.sharepoint.com/:f:/g/personal/yilmazk_metu_edu_tr/Esk2AiVspw5OsePr7toWahgBC1HX7YlK_zVKD8K6NL1TKQ?e=XWbvuh')"
   ]
  },
  {
   "cell_type": "code",
   "execution_count": 5,
   "id": "6534770d",
   "metadata": {},
   "outputs": [],
   "source": [
    "# xarray.sel\n",
    "import webbrowser\n",
    "#webbrowser.open('https://docs.xarray.dev/en/stable/generated/xarray.DataArray.sel.html')"
   ]
  },
  {
   "cell_type": "code",
   "execution_count": 6,
   "id": "2e2967c7",
   "metadata": {},
   "outputs": [],
   "source": [
    "# Plot show months\n",
    "import webbrowser\n",
    "#webbrowser.open('https://stackoverflow.com/questions/67582913/plotting-time-series-in-matplotlib-with-month-names-ex-january-and-showing-ye')"
   ]
  },
  {
   "cell_type": "code",
   "execution_count": 7,
   "id": "966e2f2c",
   "metadata": {},
   "outputs": [],
   "source": [
    "import pandas as pd\n",
    "import xarray as xr\n",
    "import numpy as np\n",
    "from random import sample\n",
    "import matplotlib\n",
    "import matplotlib.pyplot as plot\n",
    "%matplotlib inline"
   ]
  },
  {
   "cell_type": "code",
   "execution_count": 8,
   "id": "a4ce8d6d",
   "metadata": {},
   "outputs": [],
   "source": [
    "stations = pd.read_excel('Chosen_all.xlsx', index_col=0)"
   ]
  },
  {
   "cell_type": "code",
   "execution_count": 9,
   "id": "4c5fd1ec",
   "metadata": {},
   "outputs": [
    {
     "name": "stdout",
     "output_type": "stream",
     "text": [
      "Year Processing:  1\n",
      "D09A011\n",
      "Year Processing:  2\n",
      "D09A011\n",
      "Year Processing:  3\n",
      "D09A011\n",
      "Year Processing:  4\n",
      "D09A011\n",
      "Year Processing:  5\n",
      "D09A011\n",
      "Year Processing:  6\n",
      "D09A011\n",
      "Year Processing:  7\n",
      "D09A011\n",
      "Year Processing:  8\n",
      "D09A011\n",
      "Year Processing:  9\n",
      "D09A011\n",
      "Year Processing:  10\n",
      "D09A011\n",
      "Year Processing:  11\n",
      "D09A011\n",
      "Year Processing:  12\n",
      "D09A011\n",
      "Year Processing:  13\n",
      "D09A011\n",
      "Year Processing:  14\n",
      "D09A011\n",
      "Year Processing:  15\n",
      "D09A011\n",
      "Year Processing:  16\n",
      "D09A011\n",
      "Year Processing:  17\n",
      "D09A011\n",
      "Year Processing:  18\n",
      "D09A011\n",
      "Year Processing:  19\n",
      "D09A011\n"
     ]
    }
   ],
   "source": [
    "dfall = pd.DataFrame()\n",
    "pgs = range(1, 20)\n",
    "for pg in pgs:\n",
    "    print('Year Processing: ', str(pg))\n",
    "    #  Read TimeSeries Data for the current year\n",
    "    flname =  \"Efas_datasets/adaptor_\" + str(pg) + \".nc\"\n",
    "    flname = \"C:/Users/PC/Desktop/&Python/&Koray Hoca/&Work2/Efas_datasets/adaptor_\" + str(pg) + \".nc\"\n",
    "    clim = xr.open_dataset(flname)\n",
    "    clim\n",
    "    lat = clim.variables['latitude']\n",
    "    lon = clim.variables['longitude']\n",
    "    # convert data to usable ndarray\n",
    "    lat_ndarray = np.asarray(lat[:])\n",
    "    lon_ndarray = np.asarray(lon[:])  \n",
    "    # Iterate over all the stations in stations frame\n",
    "    dfyear = pd.DataFrame()\n",
    "    for stnam in stations.stname:\n",
    "        station=stations[stations['stname'] == stnam] # We have chosen a station for consistency\n",
    "        station\n",
    "        # Get grid corrdinates nearest to the selected station\n",
    "        coordinates = np.unravel_index((np.abs(lat_ndarray - station.north.values) + np.abs(lon_ndarray - station.east.values)).argmin(), lat_ndarray.shape)\n",
    "        st_y = clim.variables['y'][coordinates[0]]\n",
    "        st_x = clim.variables['x'][coordinates[1]]\n",
    "        # Now we will plot a time series of the derived station by using its Lat and Lon, locating the nearest point\n",
    "        # extract data for selected point in netcdf file by LISFLOOD coordinates\n",
    "        #dsloc = ds.sel(x=station.LisfloodX.values,y=station.LisfloodY.values,method='nearest')\n",
    "        climloc = clim.sel(x=st_x,y=st_y,method='nearest')\n",
    "        # Now that we have a location in the dsloc and climloc variables we can plot the data. Below we will first align the data so that the time fields are in the same format and reference\n",
    "        # Historical Simulations are based on the 06UTC of the Date in the Time field Forecast fields are based on the timestep from the basetime.\n",
    "\n",
    "        #base=dsloc.time.values\n",
    "        #time=np.array([base+np.timedelta64(step) for step in dsloc.step.values])\n",
    "        # We will now construct a dataframe consisting of the Historical Dataset and Ensemble Members\n",
    "        df = pd.DataFrame({\n",
    "        #    'Historical_times': np.array(climloc.time.values + np.timedelta64(climloc.step.values)),\n",
    "            'Historical_times': np.array(climloc.time.values),\n",
    "            # Historical Times from the Climatology File\n",
    "            'Historical': climloc.dis06.values}) #[:, -1, -1]#,  # Historical Data from the Climatology file\n",
    "        #    'TimeStep': time})  # Time data from the Ensemble Data file as Times (Base + Delta(\"STEP\"))\n",
    "        df.rename(columns={'Historical': stnam}, inplace=True)\n",
    "\n",
    "        if stnam == stations.stname[stations.stname.index[0]]:\n",
    "            dfyear = pd.concat([dfyear, df], axis=1, sort=False)\n",
    "            print(stnam)\n",
    "        else:\n",
    "            df = df.drop(columns=['Historical_times'])\n",
    "            dfyear = pd.concat([dfyear, df], axis=1, sort=False) \n",
    "    dfall = dfall.append(dfyear, ignore_index=True)"
   ]
  },
  {
   "cell_type": "code",
   "execution_count": 10,
   "id": "3963af78",
   "metadata": {},
   "outputs": [],
   "source": [
    "#for number in dsloc.number.values:  # Include each member into the dataframe\n",
    "#    df['Ensemble_Member_' + str(number)] = dsloc.dis24[number - 1, :, -1, -1].values\n",
    "\n",
    "##dfall.head()  # Print a short list of the dataframe\n",
    "# Now we will plot the members of the Dataframe\n",
    "dfall.to_excel('Adopter2006-2015.xlsx')"
   ]
  },
  {
   "cell_type": "markdown",
   "id": "7e056629",
   "metadata": {
    "scrolled": true
   },
   "source": [
    "climloc"
   ]
  },
  {
   "cell_type": "markdown",
   "id": "801be397",
   "metadata": {},
   "source": [
    "![green-divider](https://user-images.githubusercontent.com/7065401/52071924-c003ad80-2562-11e9-8297-1c6595f8a7ff.png)"
   ]
  },
  {
   "cell_type": "markdown",
   "id": "ada728db",
   "metadata": {},
   "source": [
    "# Dis06 to Dis24"
   ]
  },
  {
   "cell_type": "code",
   "execution_count": 11,
   "id": "17b1e3a1",
   "metadata": {},
   "outputs": [],
   "source": [
    "dfall = pd.read_excel(\"Adopter2006-2015.xlsx\")"
   ]
  },
  {
   "cell_type": "code",
   "execution_count": 12,
   "id": "aa31e8d4",
   "metadata": {},
   "outputs": [],
   "source": [
    "dfall.set_index('Historical_times', inplace=True)\n",
    "#Set index of data as date"
   ]
  },
  {
   "cell_type": "code",
   "execution_count": 13,
   "id": "00de234e",
   "metadata": {},
   "outputs": [],
   "source": [
    "# DateOffsets\n",
    "import webbrowser\n",
    "#webbrowser.open('https://pandas.pydata.org/pandas-docs/stable/user_guide/timeseries.html#dateoffset-objects')"
   ]
  },
  {
   "cell_type": "code",
   "execution_count": 14,
   "id": "7fedbcde",
   "metadata": {},
   "outputs": [],
   "source": [
    "flw_dis24 =dfall.resample('D').mean()\n",
    "#Resample the data according to day with mean method"
   ]
  },
  {
   "cell_type": "code",
   "execution_count": 15,
   "id": "7f5e0e0c",
   "metadata": {},
   "outputs": [],
   "source": [
    "flw_dis24\n",
    "flw_dis24.to_excel('flw_dis24_2006-2015.xlsx')"
   ]
  },
  {
   "cell_type": "markdown",
   "id": "75b5d177",
   "metadata": {},
   "source": [
    "![green-divider](https://user-images.githubusercontent.com/7065401/52071924-c003ad80-2562-11e9-8297-1c6595f8a7ff.png)"
   ]
  },
  {
   "cell_type": "markdown",
   "id": "698b11fa",
   "metadata": {},
   "source": [
    "# Get Agi data of 2009 - 2015 in an excel file"
   ]
  },
  {
   "cell_type": "code",
   "execution_count": 16,
   "id": "9d18adb9",
   "metadata": {},
   "outputs": [],
   "source": [
    "import numpy as np\n",
    "import pandas as pd\n",
    "import matplotlib.pyplot as plt\n",
    "from matplotlib import dates as mdates\n",
    "\n",
    "%matplotlib inline"
   ]
  },
  {
   "cell_type": "code",
   "execution_count": 17,
   "id": "e20faf19",
   "metadata": {},
   "outputs": [],
   "source": [
    "place = \"C:/Users/PC/Desktop/&Python/&Koray Hoca/&Work2/Agi/Antalya/\"\n",
    "\n",
    "x2006 =pd.read_excel(place +\"FlowBook_Antalya_Basin_2006_FlowTimeSeries.xlsx\")\n",
    "x2007 =pd.read_excel(place +\"FlowBook_Antalya_Basin_2007_FlowTimeSeries.xlsx\")\n",
    "x2008 =pd.read_excel(place +\"FlowBook_Antalya_Basin_2008_FlowTimeSeries.xlsx\")\n",
    "x2009 =pd.read_excel(place +\"FlowBook_Antalya_Basin_2009_FlowTimeSeries.xlsx\")\n",
    "x2010 =pd.read_excel(place +\"FlowBook_Antalya_Basin_2010_FlowTimeSeries.xlsx\")\n",
    "x2011 =pd.read_excel(place +\"FlowBook_Antalya_Basin_2011_FlowTimeSeries.xlsx\")\n",
    "x2012 =pd.read_excel(place +\"FlowBook_Antalya_Basin_2012_FlowTimeSeries.xlsx\")\n",
    "x2013 =pd.read_excel(place +\"FlowBook_Antalya_Basin_2013_FlowTimeSeries.xlsx\")\n",
    "x2014 =pd.read_excel(place +\"FlowBook_Antalya_Basin_2014_FlowTimeSeries.xlsx\")\n",
    "x2015 =pd.read_excel(place +\"FlowBook_Antalya_Basin_2015_FlowTimeSeries.xlsx\")\n",
    "# Read needed excel files in folder "
   ]
  },
  {
   "cell_type": "code",
   "execution_count": 18,
   "id": "526c5996",
   "metadata": {},
   "outputs": [],
   "source": [
    "stations = pd.read_excel('Chosen_all.xlsx', index_col=0)\n",
    "# Take names of needed station from an excel file (I write them)\n",
    "df_total = pd.DataFrame(columns = stations.stname)\n",
    "# Create a dataframe with column names from stations file"
   ]
  },
  {
   "cell_type": "code",
   "execution_count": 19,
   "id": "a33be48c",
   "metadata": {},
   "outputs": [],
   "source": [
    "df_total = pd.concat([df_total, x2006, x2007, x2008, x2009, x2010, x2011, x2012, x2013, x2014, x2015], ignore_index=True, sort=False)\n",
    "# Concat all excel files in df_total"
   ]
  },
  {
   "cell_type": "code",
   "execution_count": 20,
   "id": "9ad9d12b",
   "metadata": {},
   "outputs": [],
   "source": [
    "df_total.set_index(\"datetime\", inplace=True)\n",
    "# Set index of df_total as datetime (dates)"
   ]
  },
  {
   "cell_type": "code",
   "execution_count": 21,
   "id": "02e14cc5",
   "metadata": {},
   "outputs": [],
   "source": [
    "df_total.to_excel(\"Agi_2006-2015.xlsx\")\n",
    "#Write all agi data into an excel named as Agi total (NaN values in excel are empty)"
   ]
  },
  {
   "cell_type": "markdown",
   "id": "925dd19c",
   "metadata": {},
   "source": [
    "![purple-divider](https://user-images.githubusercontent.com/7065401/52071927-c1cd7100-2562-11e9-908a-dde91ba14e59.png)"
   ]
  },
  {
   "cell_type": "markdown",
   "id": "722df102",
   "metadata": {},
   "source": [
    "# Hydrograph"
   ]
  },
  {
   "cell_type": "code",
   "execution_count": 22,
   "id": "e82deffa",
   "metadata": {},
   "outputs": [],
   "source": [
    "import matplotlib \n",
    "%matplotlib inline"
   ]
  },
  {
   "cell_type": "code",
   "execution_count": 23,
   "id": "6ae50a62",
   "metadata": {},
   "outputs": [],
   "source": [
    "hg_efas=flw_dis24\n",
    "# hg: Hydrograph\n",
    "hg_agi=df_total"
   ]
  },
  {
   "cell_type": "markdown",
   "id": "96b9945b",
   "metadata": {},
   "source": [
    "# D09A011"
   ]
  },
  {
   "cell_type": "code",
   "execution_count": 24,
   "id": "e8198d6e",
   "metadata": {},
   "outputs": [
    {
     "data": {
      "text/plain": [
       "<matplotlib.legend.Legend at 0x2b1419f34c0>"
      ]
     },
     "execution_count": 24,
     "metadata": {},
     "output_type": "execute_result"
    },
    {
     "data": {
      "image/png": "[encoded data removed]",
      "text/plain": [
       "<Figure size 1080x360 with 1 Axes>"
      ]
     },
     "metadata": {
      "needs_background": "light"
     },
     "output_type": "display_data"
    }
   ],
   "source": [
    "#D09A011\n",
    "plt=hg_efas.D09A011.plot(kind='line',label='D09A011_efas',color ='orange',figsize=(15,5))\n",
    "plt.set_ylabel('Discharge')\n",
    "plt.set_xlabel('Time')\n",
    "hg_agi.D09A011.plot(kind='line',label='D09A011_agi',color= 'blue')\n",
    "# Minor ticks every month.\n",
    "fmt_month = mdates.MonthLocator()\n",
    "# Minor ticks every year.\n",
    "fmt_year = mdates.YearLocator()\n",
    "plt.xaxis.set_minor_locator(fmt_month)\n",
    "# '%b' to get the names of the month\n",
    "# '%m' to get months as number\n",
    "plt.xaxis.set_minor_formatter(mdates.DateFormatter('%m'))\n",
    "plt.xaxis.set_major_locator(fmt_year)\n",
    "plt.xaxis.set_major_formatter(mdates.DateFormatter('%m'))\n",
    "\n",
    "# fontsize for month labels\n",
    "plt.tick_params(labelsize=8, which='both')\n",
    "# create a second x-axis beneath the first x-axis to show the year in YYYY format\n",
    "sec_xaxis = plt.secondary_xaxis(-0.1)\n",
    "sec_xaxis.xaxis.set_major_locator(fmt_year)\n",
    "sec_xaxis.xaxis.set_major_formatter(mdates.DateFormatter('%Y'))\n",
    "plt.set_xlabel('Time')\n",
    "\n",
    "##start, end = plt.get_xlim()\n",
    "##plt.xaxis.set_ticks(np.arange(start, end))\n",
    "plt.grid(zorder=0,linestyle='dotted', color='black')\n",
    "#Zorder for line drawings\n",
    "plt.legend()\n",
    "##plt.get_figure().savefig(f\"plt/D09A011.png\",bbox_inches='tight')\n",
    "# Blue for agi, orange for efas data"
   ]
  },
  {
   "cell_type": "markdown",
   "id": "63227b8d",
   "metadata": {},
   "source": [
    "![purple-divider](https://user-images.githubusercontent.com/7065401/52071927-c1cd7100-2562-11e9-908a-dde91ba14e59.png)"
   ]
  },
  {
   "cell_type": "markdown",
   "id": "51cae534",
   "metadata": {},
   "source": [
    "# Loop for Graphs"
   ]
  },
  {
   "cell_type": "code",
   "execution_count": 25,
   "id": "c03c4e41",
   "metadata": {},
   "outputs": [
    {
     "data": {
      "image/png": "[encoded data removed]",
      "text/plain": [
       "<Figure size 1080x360 with 1 Axes>"
      ]
     },
     "metadata": {
      "needs_background": "light"
     },
     "output_type": "display_data"
    }
   ],
   "source": [
    "#Graph with months\n",
    "for i in range(len(stations.stname)):\n",
    "    plt=hg_efas[stations.stname.iloc[i]].plot(kind='line',label=f'{stations.stname.iloc[i]}_efas',color ='orange',figsize=(15,5))\n",
    "    plt.set_ylabel('Discharge')\n",
    "    plt.set_xlabel('Time')\n",
    "    hg_agi[stations.stname.iloc[i]].plot(kind='line',label=f'{stations.stname.iloc[i]}_agi',color= 'blue')\n",
    "    # Minor ticks every month.\n",
    "    fmt_month = mdates.MonthLocator()\n",
    "    # Minor ticks every year.\n",
    "    fmt_year = mdates.YearLocator()\n",
    "    plt.xaxis.set_minor_locator(fmt_month)\n",
    "    # '%b' to get the names of the month\n",
    "    # '%m' to get months as number\n",
    "    plt.xaxis.set_minor_formatter(mdates.DateFormatter('%m'))\n",
    "    plt.xaxis.set_major_locator(fmt_year)\n",
    "    plt.xaxis.set_major_formatter(mdates.DateFormatter('%m'))\n",
    "\n",
    "    # fontsize for month labels\n",
    "    plt.tick_params(labelsize=8, which='both')\n",
    "    # create a second x-axis beneath the first x-axis to show the year in YYYY format\n",
    "    sec_xaxis = plt.secondary_xaxis(-0.1)\n",
    "    sec_xaxis.xaxis.set_major_locator(fmt_year)\n",
    "    sec_xaxis.xaxis.set_major_formatter(mdates.DateFormatter('%Y'))\n",
    "    plt.set_xlabel('Time')\n",
    "\n",
    "    ##start, end = plt.get_xlim()\n",
    "    ##plt.xaxis.set_ticks(np.arange(start, end))\n",
    "    plt.grid(zorder=0,linestyle='dotted', color='black')\n",
    "    plt.legend()\n",
    "    plt.get_figure().savefig(f\"plt2/{stations.stname.iloc[i]}.png\",bbox_inches='tight')\n",
    "    plt.cla()\n",
    "    # Blue for agi, orange for efas data"
   ]
  },
  {
   "cell_type": "markdown",
   "id": "c07321ba",
   "metadata": {},
   "source": [
    "![green-divider](https://user-images.githubusercontent.com/7065401/52071924-c003ad80-2562-11e9-8297-1c6595f8a7ff.png)"
   ]
  },
  {
   "cell_type": "markdown",
   "id": "0bc9b943",
   "metadata": {},
   "source": [
    "# Selecting chosen data from agi and efas_dis24 datas"
   ]
  },
  {
   "cell_type": "code",
   "execution_count": 26,
   "id": "b8aca2fc",
   "metadata": {},
   "outputs": [],
   "source": [
    "agi=pd.read_excel(\"Agi_2006-2015.xlsx\")\n",
    "dis24=pd.read_excel('flw_dis24_2006-2015.xlsx')\n",
    "chosen=pd.read_excel(\"chosen_ky.xlsx\")\n",
    "#Upload agi efas_dis24 and chosen station datas as dataframe"
   ]
  },
  {
   "cell_type": "code",
   "execution_count": 27,
   "id": "ffdc7af5",
   "metadata": {},
   "outputs": [
    {
     "data": {
      "text/plain": [
       "array(['Historical_times', 'Unnamed: 0', 'D09A011', 'D09A031', 'D09A034',\n",
       "       'D09A039', 'D09A042', 'D09A060', 'D09A065', 'D09A067', 'D09A068',\n",
       "       'D09A084', 'D09A086', 'D09A088', 'D09A089', 'D09A095', 'D09A100',\n",
       "       'D09A101', 'D09A104', 'D09A114', 'D09A122', 'D09A123', 'D09A124',\n",
       "       'D09A126', 'D09A127', 'D09A131', 'D09A132', 'D09A133', 'D09A134',\n",
       "       'E09A002', 'E09A012', 'E09A017', 'E09A020', 'E09A021', 'E09A022',\n",
       "       'E09A024', 'E09A032', 'E09A033', 'E09A099'], dtype=object)"
      ]
     },
     "execution_count": 27,
     "metadata": {},
     "output_type": "execute_result"
    }
   ],
   "source": [
    "dis24.columns.values\n",
    "#Checking column values"
   ]
  },
  {
   "cell_type": "code",
   "execution_count": 28,
   "id": "6795f04c",
   "metadata": {},
   "outputs": [
    {
     "data": {
      "text/plain": [
       "array(['datetime', 'D09A011', 'D09A031', 'D09A034', 'D09A039', 'D09A042',\n",
       "       'D09A060', 'D09A065', 'D09A067', 'D09A068', 'D09A084', 'D09A086',\n",
       "       'D09A088', 'D09A089', 'D09A095', 'D09A100', 'D09A101', 'D09A104',\n",
       "       'D09A114', 'D09A122', 'D09A123', 'D09A124', 'D09A126', 'D09A127',\n",
       "       'D09A131', 'D09A132', 'D09A133', 'D09A134', 'E09A002', 'E09A012',\n",
       "       'E09A017', 'E09A020', 'E09A021', 'E09A022', 'E09A024', 'E09A032',\n",
       "       'E09A033', 'E09A099', 'data', 'D09A002', 'D09A006', 'D09A013',\n",
       "       'D09A016', 'D09A056', 'D09A057', 'D09A075', 'D09A091', 'D09A111',\n",
       "       'D09A116', 'D09A117', 'D09A118', 'D09A120', 'D09A121', 'D09A125',\n",
       "       'D09A098', 'D09A135', 'E09A018', 'E09A029', 'E09A030', 'E09A031'],\n",
       "      dtype=object)"
      ]
     },
     "execution_count": 28,
     "metadata": {},
     "output_type": "execute_result"
    }
   ],
   "source": [
    "agi.columns.values"
   ]
  },
  {
   "cell_type": "code",
   "execution_count": 29,
   "id": "65888e9c",
   "metadata": {},
   "outputs": [
    {
     "data": {
      "text/plain": [
       "array(['D09A034', 'D09A065', 'D09A067', 'D09A068', 'D09A086', 'D09A089',\n",
       "       'D09A095', 'D09A101', 'D09A122', 'E09A002', 'E09A012', 'E09A017',\n",
       "       'E09A021', 'E09A022', 'E09A024', 'E09A099'], dtype=object)"
      ]
     },
     "execution_count": 29,
     "metadata": {},
     "output_type": "execute_result"
    }
   ],
   "source": [
    "chosen.stname.values\n",
    "# Taking only chosen stations"
   ]
  },
  {
   "cell_type": "code",
   "execution_count": 30,
   "id": "056a6733",
   "metadata": {},
   "outputs": [],
   "source": [
    "lis=list(chosen.stname.values)\n",
    "# Write chosen stations as list"
   ]
  },
  {
   "cell_type": "code",
   "execution_count": 31,
   "id": "fc06ab33",
   "metadata": {},
   "outputs": [],
   "source": [
    "lis.append('datetime')\n",
    "# datetime not in the list so we append it"
   ]
  },
  {
   "cell_type": "code",
   "execution_count": 32,
   "id": "5478782f",
   "metadata": {},
   "outputs": [],
   "source": [
    "dis24.rename(columns = {'Historical_times':'datetime'}, inplace= True)\n",
    "# Efas_24 and agi excel sheets have different names for datetime so we change it"
   ]
  },
  {
   "cell_type": "code",
   "execution_count": 33,
   "id": "73e11f60",
   "metadata": {
    "scrolled": true
   },
   "outputs": [
    {
     "data": {
      "text/plain": [
       "['D09A034',\n",
       " 'D09A065',\n",
       " 'D09A067',\n",
       " 'D09A068',\n",
       " 'D09A086',\n",
       " 'D09A089',\n",
       " 'D09A095',\n",
       " 'D09A101',\n",
       " 'D09A122',\n",
       " 'E09A002',\n",
       " 'E09A012',\n",
       " 'E09A017',\n",
       " 'E09A021',\n",
       " 'E09A022',\n",
       " 'E09A024',\n",
       " 'E09A099',\n",
       " 'datetime']"
      ]
     },
     "execution_count": 33,
     "metadata": {},
     "output_type": "execute_result"
    }
   ],
   "source": [
    "lis\n",
    "# Checking lis values, looking for station name correctness and datetime value"
   ]
  },
  {
   "cell_type": "code",
   "execution_count": 34,
   "id": "e9eff405",
   "metadata": {},
   "outputs": [],
   "source": [
    "dis24_c = dis24[lis]\n",
    "# dis_c for dis24_chosen"
   ]
  },
  {
   "cell_type": "code",
   "execution_count": 35,
   "id": "078e185e",
   "metadata": {},
   "outputs": [],
   "source": [
    "dis24_c.set_index('datetime',inplace=True)\n",
    "#set index as datetime"
   ]
  },
  {
   "cell_type": "code",
   "execution_count": 36,
   "id": "c4a7158a",
   "metadata": {},
   "outputs": [],
   "source": [
    "agi_c = agi[lis]"
   ]
  },
  {
   "cell_type": "code",
   "execution_count": 37,
   "id": "476e0cf3",
   "metadata": {},
   "outputs": [],
   "source": [
    "agi_c.set_index('datetime',inplace=True)"
   ]
  },
  {
   "cell_type": "code",
   "execution_count": 38,
   "id": "67b339df",
   "metadata": {},
   "outputs": [],
   "source": [
    "agi_c.to_excel('Agi_ky_2006-2015.xlsx')"
   ]
  },
  {
   "cell_type": "code",
   "execution_count": 39,
   "id": "62dafd55",
   "metadata": {},
   "outputs": [],
   "source": [
    "dis24_c.to_excel('Dis24_ky_2006-2015.xlsx')"
   ]
  },
  {
   "cell_type": "code",
   "execution_count": null,
   "id": "17078ff0",
   "metadata": {},
   "outputs": [],
   "source": []
  }
 ],
 "metadata": {
  "kernelspec": {
   "display_name": "Python 3 (ipykernel)",
   "language": "python",
   "name": "python3"
  },
  "language_info": {
   "codemirror_mode": {
    "name": "ipython",
    "version": 3
   },
   "file_extension": ".py",
   "mimetype": "text/x-python",
   "name": "python",
   "nbconvert_exporter": "python",
   "pygments_lexer": "ipython3",
   "version": "3.9.7"
  }
 },
 "nbformat": 4,
 "nbformat_minor": 5
}
